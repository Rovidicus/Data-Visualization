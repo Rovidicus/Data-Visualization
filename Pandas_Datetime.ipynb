{
 "cells": [
  {
   "cell_type": "code",
   "execution_count": 1,
   "id": "e2288e9a-88dd-493b-b57f-229cb67f23a2",
   "metadata": {},
   "outputs": [
    {
     "name": "stdout",
     "output_type": "stream",
     "text": [
      "<class 'pandas.core.frame.DataFrame'>\n",
      "RangeIndex: 1462 entries, 0 to 1461\n",
      "Data columns (total 5 columns):\n",
      " #   Column        Non-Null Count  Dtype  \n",
      "---  ------        --------------  -----  \n",
      " 0   date          1462 non-null   object \n",
      " 1   meantemp      1462 non-null   float64\n",
      " 2   humidity      1462 non-null   float64\n",
      " 3   wind_speed    1462 non-null   float64\n",
      " 4   meanpressure  1462 non-null   float64\n",
      "dtypes: float64(4), object(1)\n",
      "memory usage: 57.2+ KB\n"
     ]
    },
    {
     "data": {
      "text/html": [
       "<div>\n",
       "<style scoped>\n",
       "    .dataframe tbody tr th:only-of-type {\n",
       "        vertical-align: middle;\n",
       "    }\n",
       "\n",
       "    .dataframe tbody tr th {\n",
       "        vertical-align: top;\n",
       "    }\n",
       "\n",
       "    .dataframe thead th {\n",
       "        text-align: right;\n",
       "    }\n",
       "</style>\n",
       "<table border=\"1\" class=\"dataframe\">\n",
       "  <thead>\n",
       "    <tr style=\"text-align: right;\">\n",
       "      <th></th>\n",
       "      <th>date</th>\n",
       "      <th>meantemp</th>\n",
       "      <th>humidity</th>\n",
       "      <th>wind_speed</th>\n",
       "      <th>meanpressure</th>\n",
       "    </tr>\n",
       "  </thead>\n",
       "  <tbody>\n",
       "    <tr>\n",
       "      <th>0</th>\n",
       "      <td>2013-01-01</td>\n",
       "      <td>10.000000</td>\n",
       "      <td>84.5</td>\n",
       "      <td>0.000000</td>\n",
       "      <td>1015.666667</td>\n",
       "    </tr>\n",
       "    <tr>\n",
       "      <th>1</th>\n",
       "      <td>2013-01-02</td>\n",
       "      <td>7.400000</td>\n",
       "      <td>92.0</td>\n",
       "      <td>2.980000</td>\n",
       "      <td>1017.800000</td>\n",
       "    </tr>\n",
       "    <tr>\n",
       "      <th>2</th>\n",
       "      <td>2013-01-03</td>\n",
       "      <td>7.166667</td>\n",
       "      <td>87.0</td>\n",
       "      <td>4.633333</td>\n",
       "      <td>1018.666667</td>\n",
       "    </tr>\n",
       "  </tbody>\n",
       "</table>\n",
       "</div>"
      ],
      "text/plain": [
       "         date   meantemp  humidity  wind_speed  meanpressure\n",
       "0  2013-01-01  10.000000      84.5    0.000000   1015.666667\n",
       "1  2013-01-02   7.400000      92.0    2.980000   1017.800000\n",
       "2  2013-01-03   7.166667      87.0    4.633333   1018.666667"
      ]
     },
     "execution_count": 1,
     "metadata": {},
     "output_type": "execute_result"
    }
   ],
   "source": [
    "import pandas as pd\n",
    "url=\"https://docs.google.com/spreadsheets/d/e/2PACX-1vQcpVvVioO23cndDwr1UmKhndrSq6ES6ZUKZ4fkBBqIAavd1_coVPO_yeOye-Ub-cAWlkX3psJvOU8o/pub?output=csv\"\n",
    "df = pd.read_csv(url)\n",
    "df.info()\n",
    "df.head(3)"
   ]
  },
  {
   "cell_type": "code",
   "execution_count": 2,
   "id": "fd75f92d-8f55-463f-86f9-9130abff663e",
   "metadata": {},
   "outputs": [
    {
     "name": "stdout",
     "output_type": "stream",
     "text": [
      "<class 'pandas.core.frame.DataFrame'>\n",
      "RangeIndex: 1462 entries, 0 to 1461\n",
      "Data columns (total 6 columns):\n",
      " #   Column        Non-Null Count  Dtype         \n",
      "---  ------        --------------  -----         \n",
      " 0   date          1462 non-null   object        \n",
      " 1   meantemp      1462 non-null   float64       \n",
      " 2   humidity      1462 non-null   float64       \n",
      " 3   wind_speed    1462 non-null   float64       \n",
      " 4   meanpressure  1462 non-null   float64       \n",
      " 5   datetime      1462 non-null   datetime64[ns]\n",
      "dtypes: datetime64[ns](1), float64(4), object(1)\n",
      "memory usage: 68.7+ KB\n"
     ]
    },
    {
     "data": {
      "text/html": [
       "<div>\n",
       "<style scoped>\n",
       "    .dataframe tbody tr th:only-of-type {\n",
       "        vertical-align: middle;\n",
       "    }\n",
       "\n",
       "    .dataframe tbody tr th {\n",
       "        vertical-align: top;\n",
       "    }\n",
       "\n",
       "    .dataframe thead th {\n",
       "        text-align: right;\n",
       "    }\n",
       "</style>\n",
       "<table border=\"1\" class=\"dataframe\">\n",
       "  <thead>\n",
       "    <tr style=\"text-align: right;\">\n",
       "      <th></th>\n",
       "      <th>date</th>\n",
       "      <th>meantemp</th>\n",
       "      <th>humidity</th>\n",
       "      <th>wind_speed</th>\n",
       "      <th>meanpressure</th>\n",
       "      <th>datetime</th>\n",
       "    </tr>\n",
       "  </thead>\n",
       "  <tbody>\n",
       "    <tr>\n",
       "      <th>0</th>\n",
       "      <td>2013-01-01</td>\n",
       "      <td>10.000000</td>\n",
       "      <td>84.5</td>\n",
       "      <td>0.000000</td>\n",
       "      <td>1015.666667</td>\n",
       "      <td>2013-01-01</td>\n",
       "    </tr>\n",
       "    <tr>\n",
       "      <th>1</th>\n",
       "      <td>2013-01-02</td>\n",
       "      <td>7.400000</td>\n",
       "      <td>92.0</td>\n",
       "      <td>2.980000</td>\n",
       "      <td>1017.800000</td>\n",
       "      <td>2013-01-02</td>\n",
       "    </tr>\n",
       "    <tr>\n",
       "      <th>2</th>\n",
       "      <td>2013-01-03</td>\n",
       "      <td>7.166667</td>\n",
       "      <td>87.0</td>\n",
       "      <td>4.633333</td>\n",
       "      <td>1018.666667</td>\n",
       "      <td>2013-01-03</td>\n",
       "    </tr>\n",
       "  </tbody>\n",
       "</table>\n",
       "</div>"
      ],
      "text/plain": [
       "         date   meantemp  humidity  wind_speed  meanpressure   datetime\n",
       "0  2013-01-01  10.000000      84.5    0.000000   1015.666667 2013-01-01\n",
       "1  2013-01-02   7.400000      92.0    2.980000   1017.800000 2013-01-02\n",
       "2  2013-01-03   7.166667      87.0    4.633333   1018.666667 2013-01-03"
      ]
     },
     "execution_count": 2,
     "metadata": {},
     "output_type": "execute_result"
    }
   ],
   "source": [
    "#Add a datetime column based on the string in the \"date\" column\n",
    "df['datetime'] = pd.to_datetime(df['date'])\n",
    "df.info()\n",
    "df.head(3)"
   ]
  },
  {
   "cell_type": "code",
   "execution_count": 3,
   "id": "2d66b62a-0836-405a-8feb-c9367b59da2d",
   "metadata": {},
   "outputs": [
    {
     "data": {
      "text/plain": [
       "'2013-01-01'"
      ]
     },
     "execution_count": 3,
     "metadata": {},
     "output_type": "execute_result"
    }
   ],
   "source": [
    "## preview first row from the date column (string)\n",
    "df.loc[0,'date']"
   ]
  },
  {
   "cell_type": "code",
   "execution_count": 4,
   "id": "38baae1b-f421-4218-b6b2-fdf9be692117",
   "metadata": {},
   "outputs": [
    {
     "data": {
      "text/plain": [
       "Timestamp('2013-01-01 00:00:00')"
      ]
     },
     "execution_count": 4,
     "metadata": {},
     "output_type": "execute_result"
    }
   ],
   "source": [
    "## preview first row from the datetime column (datetime64[ns])\n",
    "df.loc[0,'datetime']"
   ]
  },
  {
   "cell_type": "code",
   "execution_count": 5,
   "id": "734c4434-f2c6-4806-8067-810f2cb595f7",
   "metadata": {},
   "outputs": [
    {
     "data": {
      "text/plain": [
       "'January 01, 2013'"
      ]
     },
     "execution_count": 5,
     "metadata": {},
     "output_type": "execute_result"
    }
   ],
   "source": [
    "## demonstrate format code\n",
    "fmt = \"%B %d, %Y\"\n",
    "df.loc[0,'datetime'].strftime(fmt)"
   ]
  },
  {
   "cell_type": "code",
   "execution_count": 6,
   "id": "e2ccf540-c737-428a-8665-fd879df428b7",
   "metadata": {},
   "outputs": [
    {
     "data": {
      "text/plain": [
       "0        January 01, 2013\n",
       "1        January 02, 2013\n",
       "2        January 03, 2013\n",
       "3        January 04, 2013\n",
       "4        January 05, 2013\n",
       "              ...        \n",
       "1457    December 28, 2016\n",
       "1458    December 29, 2016\n",
       "1459    December 30, 2016\n",
       "1460    December 31, 2016\n",
       "1461     January 01, 2017\n",
       "Name: datetime_fmt, Length: 1462, dtype: object"
      ]
     },
     "execution_count": 6,
     "metadata": {},
     "output_type": "execute_result"
    }
   ],
   "source": [
    "df['datetime_fmt'] = df['datetime'].dt.strftime(fmt)\n",
    "df['datetime_fmt']"
   ]
  },
  {
   "cell_type": "code",
   "execution_count": 7,
   "id": "73642047-56ae-4c08-b42d-0e1e3cf3c3d1",
   "metadata": {},
   "outputs": [
    {
     "name": "stdout",
     "output_type": "stream",
     "text": [
      "<class 'pandas.core.frame.DataFrame'>\n",
      "RangeIndex: 1462 entries, 0 to 1461\n",
      "Data columns (total 7 columns):\n",
      " #   Column        Non-Null Count  Dtype         \n",
      "---  ------        --------------  -----         \n",
      " 0   date          1462 non-null   object        \n",
      " 1   meantemp      1462 non-null   float64       \n",
      " 2   humidity      1462 non-null   float64       \n",
      " 3   wind_speed    1462 non-null   float64       \n",
      " 4   meanpressure  1462 non-null   float64       \n",
      " 5   datetime      1462 non-null   datetime64[ns]\n",
      " 6   datetime_fmt  1462 non-null   object        \n",
      "dtypes: datetime64[ns](1), float64(4), object(2)\n",
      "memory usage: 80.1+ KB\n"
     ]
    }
   ],
   "source": [
    "df.info()"
   ]
  },
  {
   "cell_type": "code",
   "execution_count": 8,
   "id": "1331aad9-5d0f-460f-a614-25ad18c74f06",
   "metadata": {},
   "outputs": [
    {
     "data": {
      "text/plain": [
       "0    2013\n",
       "1    2013\n",
       "2    2013\n",
       "3    2013\n",
       "4    2013\n",
       "Name: datetime, dtype: int64"
      ]
     },
     "execution_count": 8,
     "metadata": {},
     "output_type": "execute_result"
    }
   ],
   "source": [
    "df['datetime'].dt.year.head()"
   ]
  },
  {
   "cell_type": "code",
   "execution_count": 9,
   "id": "d4a6099e-a203-446c-81d1-63716f3a703e",
   "metadata": {},
   "outputs": [],
   "source": [
    "# Attempting to obtain year from a .dt.strftime object will NOT work!\n",
    "# df['datetime_fmt'].dt.year.head()"
   ]
  },
  {
   "cell_type": "code",
   "execution_count": 10,
   "id": "fc28fe33-b446-491c-92a6-a6990bf5c617",
   "metadata": {},
   "outputs": [
    {
     "data": {
      "text/plain": [
       "0    1\n",
       "1    1\n",
       "2    1\n",
       "3    1\n",
       "4    1\n",
       "Name: datetime, dtype: int64"
      ]
     },
     "execution_count": 10,
     "metadata": {},
     "output_type": "execute_result"
    }
   ],
   "source": [
    "df['datetime'].dt.month.head()"
   ]
  },
  {
   "cell_type": "code",
   "execution_count": 11,
   "id": "1a9e2f44-416c-4bb8-a127-f7b4e79bab2c",
   "metadata": {},
   "outputs": [
    {
     "data": {
      "text/plain": [
       "0    1\n",
       "1    1\n",
       "2    1\n",
       "3    1\n",
       "4    1\n",
       "Name: datetime, dtype: int64"
      ]
     },
     "execution_count": 11,
     "metadata": {},
     "output_type": "execute_result"
    }
   ],
   "source": [
    "## fiscal year quarter\n",
    "df['datetime'].dt.quarter.head()"
   ]
  },
  {
   "cell_type": "code",
   "execution_count": 12,
   "id": "274db6cb-ae4e-4300-a3ec-7e1988ff6e97",
   "metadata": {},
   "outputs": [
    {
     "data": {
      "text/plain": [
       "0    1\n",
       "1    2\n",
       "2    3\n",
       "3    4\n",
       "4    5\n",
       "Name: datetime, dtype: int64"
      ]
     },
     "execution_count": 12,
     "metadata": {},
     "output_type": "execute_result"
    }
   ],
   "source": [
    "## day of the week - numeric\n",
    "df['datetime'].dt.day_of_week.head()"
   ]
  },
  {
   "cell_type": "code",
   "execution_count": 13,
   "id": "09dfec4a-a346-4d23-8de4-1012274e5fdf",
   "metadata": {},
   "outputs": [
    {
     "data": {
      "text/plain": [
       "0      Tuesday\n",
       "1    Wednesday\n",
       "2     Thursday\n",
       "3       Friday\n",
       "4     Saturday\n",
       "Name: datetime, dtype: object"
      ]
     },
     "execution_count": 13,
     "metadata": {},
     "output_type": "execute_result"
    }
   ],
   "source": [
    "## day of the week - String name\n",
    "df['datetime'].dt.day_name().head()"
   ]
  },
  {
   "cell_type": "code",
   "execution_count": 14,
   "id": "c0d4d1cf-8f59-4505-add2-fd0713e7f7de",
   "metadata": {},
   "outputs": [
    {
     "data": {
      "text/html": [
       "<div>\n",
       "<style scoped>\n",
       "    .dataframe tbody tr th:only-of-type {\n",
       "        vertical-align: middle;\n",
       "    }\n",
       "\n",
       "    .dataframe tbody tr th {\n",
       "        vertical-align: top;\n",
       "    }\n",
       "\n",
       "    .dataframe thead th {\n",
       "        text-align: right;\n",
       "    }\n",
       "</style>\n",
       "<table border=\"1\" class=\"dataframe\">\n",
       "  <thead>\n",
       "    <tr style=\"text-align: right;\">\n",
       "      <th></th>\n",
       "      <th>date</th>\n",
       "      <th>meantemp</th>\n",
       "      <th>humidity</th>\n",
       "      <th>wind_speed</th>\n",
       "      <th>meanpressure</th>\n",
       "      <th>datetime_fmt</th>\n",
       "    </tr>\n",
       "    <tr>\n",
       "      <th>datetime</th>\n",
       "      <th></th>\n",
       "      <th></th>\n",
       "      <th></th>\n",
       "      <th></th>\n",
       "      <th></th>\n",
       "      <th></th>\n",
       "    </tr>\n",
       "  </thead>\n",
       "  <tbody>\n",
       "    <tr>\n",
       "      <th>2013-01-01</th>\n",
       "      <td>2013-01-01</td>\n",
       "      <td>10.000000</td>\n",
       "      <td>84.500000</td>\n",
       "      <td>0.000000</td>\n",
       "      <td>1015.666667</td>\n",
       "      <td>January 01, 2013</td>\n",
       "    </tr>\n",
       "    <tr>\n",
       "      <th>2013-01-02</th>\n",
       "      <td>2013-01-02</td>\n",
       "      <td>7.400000</td>\n",
       "      <td>92.000000</td>\n",
       "      <td>2.980000</td>\n",
       "      <td>1017.800000</td>\n",
       "      <td>January 02, 2013</td>\n",
       "    </tr>\n",
       "    <tr>\n",
       "      <th>2013-01-03</th>\n",
       "      <td>2013-01-03</td>\n",
       "      <td>7.166667</td>\n",
       "      <td>87.000000</td>\n",
       "      <td>4.633333</td>\n",
       "      <td>1018.666667</td>\n",
       "      <td>January 03, 2013</td>\n",
       "    </tr>\n",
       "    <tr>\n",
       "      <th>2013-01-04</th>\n",
       "      <td>2013-01-04</td>\n",
       "      <td>8.666667</td>\n",
       "      <td>71.333333</td>\n",
       "      <td>1.233333</td>\n",
       "      <td>1017.166667</td>\n",
       "      <td>January 04, 2013</td>\n",
       "    </tr>\n",
       "    <tr>\n",
       "      <th>2013-01-05</th>\n",
       "      <td>2013-01-05</td>\n",
       "      <td>6.000000</td>\n",
       "      <td>86.833333</td>\n",
       "      <td>3.700000</td>\n",
       "      <td>1016.500000</td>\n",
       "      <td>January 05, 2013</td>\n",
       "    </tr>\n",
       "    <tr>\n",
       "      <th>...</th>\n",
       "      <td>...</td>\n",
       "      <td>...</td>\n",
       "      <td>...</td>\n",
       "      <td>...</td>\n",
       "      <td>...</td>\n",
       "      <td>...</td>\n",
       "    </tr>\n",
       "    <tr>\n",
       "      <th>2016-12-28</th>\n",
       "      <td>2016-12-28</td>\n",
       "      <td>17.217391</td>\n",
       "      <td>68.043478</td>\n",
       "      <td>3.547826</td>\n",
       "      <td>1015.565217</td>\n",
       "      <td>December 28, 2016</td>\n",
       "    </tr>\n",
       "    <tr>\n",
       "      <th>2016-12-29</th>\n",
       "      <td>2016-12-29</td>\n",
       "      <td>15.238095</td>\n",
       "      <td>87.857143</td>\n",
       "      <td>6.000000</td>\n",
       "      <td>1016.904762</td>\n",
       "      <td>December 29, 2016</td>\n",
       "    </tr>\n",
       "    <tr>\n",
       "      <th>2016-12-30</th>\n",
       "      <td>2016-12-30</td>\n",
       "      <td>14.095238</td>\n",
       "      <td>89.666667</td>\n",
       "      <td>6.266667</td>\n",
       "      <td>1017.904762</td>\n",
       "      <td>December 30, 2016</td>\n",
       "    </tr>\n",
       "    <tr>\n",
       "      <th>2016-12-31</th>\n",
       "      <td>2016-12-31</td>\n",
       "      <td>15.052632</td>\n",
       "      <td>87.000000</td>\n",
       "      <td>7.325000</td>\n",
       "      <td>1016.100000</td>\n",
       "      <td>December 31, 2016</td>\n",
       "    </tr>\n",
       "    <tr>\n",
       "      <th>2017-01-01</th>\n",
       "      <td>2017-01-01</td>\n",
       "      <td>10.000000</td>\n",
       "      <td>100.000000</td>\n",
       "      <td>0.000000</td>\n",
       "      <td>1016.000000</td>\n",
       "      <td>January 01, 2017</td>\n",
       "    </tr>\n",
       "  </tbody>\n",
       "</table>\n",
       "<p>1462 rows × 6 columns</p>\n",
       "</div>"
      ],
      "text/plain": [
       "                  date   meantemp    humidity  wind_speed  meanpressure  \\\n",
       "datetime                                                                  \n",
       "2013-01-01  2013-01-01  10.000000   84.500000    0.000000   1015.666667   \n",
       "2013-01-02  2013-01-02   7.400000   92.000000    2.980000   1017.800000   \n",
       "2013-01-03  2013-01-03   7.166667   87.000000    4.633333   1018.666667   \n",
       "2013-01-04  2013-01-04   8.666667   71.333333    1.233333   1017.166667   \n",
       "2013-01-05  2013-01-05   6.000000   86.833333    3.700000   1016.500000   \n",
       "...                ...        ...         ...         ...           ...   \n",
       "2016-12-28  2016-12-28  17.217391   68.043478    3.547826   1015.565217   \n",
       "2016-12-29  2016-12-29  15.238095   87.857143    6.000000   1016.904762   \n",
       "2016-12-30  2016-12-30  14.095238   89.666667    6.266667   1017.904762   \n",
       "2016-12-31  2016-12-31  15.052632   87.000000    7.325000   1016.100000   \n",
       "2017-01-01  2017-01-01  10.000000  100.000000    0.000000   1016.000000   \n",
       "\n",
       "                 datetime_fmt  \n",
       "datetime                       \n",
       "2013-01-01   January 01, 2013  \n",
       "2013-01-02   January 02, 2013  \n",
       "2013-01-03   January 03, 2013  \n",
       "2013-01-04   January 04, 2013  \n",
       "2013-01-05   January 05, 2013  \n",
       "...                       ...  \n",
       "2016-12-28  December 28, 2016  \n",
       "2016-12-29  December 29, 2016  \n",
       "2016-12-30  December 30, 2016  \n",
       "2016-12-31  December 31, 2016  \n",
       "2017-01-01   January 01, 2017  \n",
       "\n",
       "[1462 rows x 6 columns]"
      ]
     },
     "execution_count": 14,
     "metadata": {},
     "output_type": "execute_result"
    }
   ],
   "source": [
    "df = df.set_index('datetime')\n",
    "df"
   ]
  },
  {
   "cell_type": "code",
   "execution_count": 15,
   "id": "e5193262-8dff-4cec-be1d-b7276ed280fe",
   "metadata": {},
   "outputs": [
    {
     "data": {
      "text/plain": [
       "DatetimeIndex(['2013-01-01', '2013-01-02', '2013-01-03', '2013-01-04',\n",
       "               '2013-01-05', '2013-01-06', '2013-01-07', '2013-01-08',\n",
       "               '2013-01-09', '2013-01-10',\n",
       "               ...\n",
       "               '2016-12-23', '2016-12-24', '2016-12-25', '2016-12-26',\n",
       "               '2016-12-27', '2016-12-28', '2016-12-29', '2016-12-30',\n",
       "               '2016-12-31', '2017-01-01'],\n",
       "              dtype='datetime64[ns]', name='datetime', length=1462, freq=None)"
      ]
     },
     "execution_count": 15,
     "metadata": {},
     "output_type": "execute_result"
    }
   ],
   "source": [
    "df.index"
   ]
  },
  {
   "cell_type": "code",
   "execution_count": 16,
   "id": "25bd6c14-d3ad-4f67-9673-1dff36956864",
   "metadata": {},
   "outputs": [
    {
     "data": {
      "text/html": [
       "<div>\n",
       "<style scoped>\n",
       "    .dataframe tbody tr th:only-of-type {\n",
       "        vertical-align: middle;\n",
       "    }\n",
       "\n",
       "    .dataframe tbody tr th {\n",
       "        vertical-align: top;\n",
       "    }\n",
       "\n",
       "    .dataframe thead th {\n",
       "        text-align: right;\n",
       "    }\n",
       "</style>\n",
       "<table border=\"1\" class=\"dataframe\">\n",
       "  <thead>\n",
       "    <tr style=\"text-align: right;\">\n",
       "      <th></th>\n",
       "      <th>date</th>\n",
       "      <th>meantemp</th>\n",
       "      <th>humidity</th>\n",
       "      <th>wind_speed</th>\n",
       "      <th>meanpressure</th>\n",
       "      <th>datetime_fmt</th>\n",
       "    </tr>\n",
       "    <tr>\n",
       "      <th>datetime</th>\n",
       "      <th></th>\n",
       "      <th></th>\n",
       "      <th></th>\n",
       "      <th></th>\n",
       "      <th></th>\n",
       "      <th></th>\n",
       "    </tr>\n",
       "  </thead>\n",
       "  <tbody>\n",
       "    <tr>\n",
       "      <th>2013-01-01</th>\n",
       "      <td>2013-01-01</td>\n",
       "      <td>10.000000</td>\n",
       "      <td>84.500000</td>\n",
       "      <td>0.000000</td>\n",
       "      <td>1015.666667</td>\n",
       "      <td>January 01, 2013</td>\n",
       "    </tr>\n",
       "    <tr>\n",
       "      <th>2013-01-02</th>\n",
       "      <td>2013-01-02</td>\n",
       "      <td>7.400000</td>\n",
       "      <td>92.000000</td>\n",
       "      <td>2.980000</td>\n",
       "      <td>1017.800000</td>\n",
       "      <td>January 02, 2013</td>\n",
       "    </tr>\n",
       "    <tr>\n",
       "      <th>2013-01-03</th>\n",
       "      <td>2013-01-03</td>\n",
       "      <td>7.166667</td>\n",
       "      <td>87.000000</td>\n",
       "      <td>4.633333</td>\n",
       "      <td>1018.666667</td>\n",
       "      <td>January 03, 2013</td>\n",
       "    </tr>\n",
       "    <tr>\n",
       "      <th>2013-01-04</th>\n",
       "      <td>2013-01-04</td>\n",
       "      <td>8.666667</td>\n",
       "      <td>71.333333</td>\n",
       "      <td>1.233333</td>\n",
       "      <td>1017.166667</td>\n",
       "      <td>January 04, 2013</td>\n",
       "    </tr>\n",
       "    <tr>\n",
       "      <th>2013-01-05</th>\n",
       "      <td>2013-01-05</td>\n",
       "      <td>6.000000</td>\n",
       "      <td>86.833333</td>\n",
       "      <td>3.700000</td>\n",
       "      <td>1016.500000</td>\n",
       "      <td>January 05, 2013</td>\n",
       "    </tr>\n",
       "    <tr>\n",
       "      <th>...</th>\n",
       "      <td>...</td>\n",
       "      <td>...</td>\n",
       "      <td>...</td>\n",
       "      <td>...</td>\n",
       "      <td>...</td>\n",
       "      <td>...</td>\n",
       "    </tr>\n",
       "    <tr>\n",
       "      <th>2013-12-27</th>\n",
       "      <td>2013-12-27</td>\n",
       "      <td>11.875000</td>\n",
       "      <td>79.875000</td>\n",
       "      <td>1.162500</td>\n",
       "      <td>1018.625000</td>\n",
       "      <td>December 27, 2013</td>\n",
       "    </tr>\n",
       "    <tr>\n",
       "      <th>2013-12-28</th>\n",
       "      <td>2013-12-28</td>\n",
       "      <td>10.875000</td>\n",
       "      <td>70.000000</td>\n",
       "      <td>5.325000</td>\n",
       "      <td>1019.250000</td>\n",
       "      <td>December 28, 2013</td>\n",
       "    </tr>\n",
       "    <tr>\n",
       "      <th>2013-12-29</th>\n",
       "      <td>2013-12-29</td>\n",
       "      <td>10.571429</td>\n",
       "      <td>69.428571</td>\n",
       "      <td>5.325000</td>\n",
       "      <td>1018.500000</td>\n",
       "      <td>December 29, 2013</td>\n",
       "    </tr>\n",
       "    <tr>\n",
       "      <th>2013-12-30</th>\n",
       "      <td>2013-12-30</td>\n",
       "      <td>12.375000</td>\n",
       "      <td>79.500000</td>\n",
       "      <td>6.475000</td>\n",
       "      <td>1018.125000</td>\n",
       "      <td>December 30, 2013</td>\n",
       "    </tr>\n",
       "    <tr>\n",
       "      <th>2013-12-31</th>\n",
       "      <td>2013-12-31</td>\n",
       "      <td>14.500000</td>\n",
       "      <td>89.375000</td>\n",
       "      <td>4.862500</td>\n",
       "      <td>1020.500000</td>\n",
       "      <td>December 31, 2013</td>\n",
       "    </tr>\n",
       "  </tbody>\n",
       "</table>\n",
       "<p>365 rows × 6 columns</p>\n",
       "</div>"
      ],
      "text/plain": [
       "                  date   meantemp   humidity  wind_speed  meanpressure  \\\n",
       "datetime                                                                 \n",
       "2013-01-01  2013-01-01  10.000000  84.500000    0.000000   1015.666667   \n",
       "2013-01-02  2013-01-02   7.400000  92.000000    2.980000   1017.800000   \n",
       "2013-01-03  2013-01-03   7.166667  87.000000    4.633333   1018.666667   \n",
       "2013-01-04  2013-01-04   8.666667  71.333333    1.233333   1017.166667   \n",
       "2013-01-05  2013-01-05   6.000000  86.833333    3.700000   1016.500000   \n",
       "...                ...        ...        ...         ...           ...   \n",
       "2013-12-27  2013-12-27  11.875000  79.875000    1.162500   1018.625000   \n",
       "2013-12-28  2013-12-28  10.875000  70.000000    5.325000   1019.250000   \n",
       "2013-12-29  2013-12-29  10.571429  69.428571    5.325000   1018.500000   \n",
       "2013-12-30  2013-12-30  12.375000  79.500000    6.475000   1018.125000   \n",
       "2013-12-31  2013-12-31  14.500000  89.375000    4.862500   1020.500000   \n",
       "\n",
       "                 datetime_fmt  \n",
       "datetime                       \n",
       "2013-01-01   January 01, 2013  \n",
       "2013-01-02   January 02, 2013  \n",
       "2013-01-03   January 03, 2013  \n",
       "2013-01-04   January 04, 2013  \n",
       "2013-01-05   January 05, 2013  \n",
       "...                       ...  \n",
       "2013-12-27  December 27, 2013  \n",
       "2013-12-28  December 28, 2013  \n",
       "2013-12-29  December 29, 2013  \n",
       "2013-12-30  December 30, 2013  \n",
       "2013-12-31  December 31, 2013  \n",
       "\n",
       "[365 rows x 6 columns]"
      ]
     },
     "execution_count": 16,
     "metadata": {},
     "output_type": "execute_result"
    }
   ],
   "source": [
    "df.loc['2013']"
   ]
  },
  {
   "cell_type": "code",
   "execution_count": 17,
   "id": "946a56da-f4de-453d-a28a-3ec5d8d3e371",
   "metadata": {},
   "outputs": [
    {
     "data": {
      "text/html": [
       "<div>\n",
       "<style scoped>\n",
       "    .dataframe tbody tr th:only-of-type {\n",
       "        vertical-align: middle;\n",
       "    }\n",
       "\n",
       "    .dataframe tbody tr th {\n",
       "        vertical-align: top;\n",
       "    }\n",
       "\n",
       "    .dataframe thead th {\n",
       "        text-align: right;\n",
       "    }\n",
       "</style>\n",
       "<table border=\"1\" class=\"dataframe\">\n",
       "  <thead>\n",
       "    <tr style=\"text-align: right;\">\n",
       "      <th></th>\n",
       "      <th>date</th>\n",
       "      <th>meantemp</th>\n",
       "      <th>humidity</th>\n",
       "      <th>wind_speed</th>\n",
       "      <th>meanpressure</th>\n",
       "      <th>datetime_fmt</th>\n",
       "    </tr>\n",
       "    <tr>\n",
       "      <th>datetime</th>\n",
       "      <th></th>\n",
       "      <th></th>\n",
       "      <th></th>\n",
       "      <th></th>\n",
       "      <th></th>\n",
       "      <th></th>\n",
       "    </tr>\n",
       "  </thead>\n",
       "  <tbody>\n",
       "    <tr>\n",
       "      <th>2013-01-01</th>\n",
       "      <td>2013-01-01</td>\n",
       "      <td>10.000000</td>\n",
       "      <td>84.500000</td>\n",
       "      <td>0.000000</td>\n",
       "      <td>1015.666667</td>\n",
       "      <td>January 01, 2013</td>\n",
       "    </tr>\n",
       "    <tr>\n",
       "      <th>2013-01-02</th>\n",
       "      <td>2013-01-02</td>\n",
       "      <td>7.400000</td>\n",
       "      <td>92.000000</td>\n",
       "      <td>2.980000</td>\n",
       "      <td>1017.800000</td>\n",
       "      <td>January 02, 2013</td>\n",
       "    </tr>\n",
       "    <tr>\n",
       "      <th>2013-01-03</th>\n",
       "      <td>2013-01-03</td>\n",
       "      <td>7.166667</td>\n",
       "      <td>87.000000</td>\n",
       "      <td>4.633333</td>\n",
       "      <td>1018.666667</td>\n",
       "      <td>January 03, 2013</td>\n",
       "    </tr>\n",
       "    <tr>\n",
       "      <th>2013-01-04</th>\n",
       "      <td>2013-01-04</td>\n",
       "      <td>8.666667</td>\n",
       "      <td>71.333333</td>\n",
       "      <td>1.233333</td>\n",
       "      <td>1017.166667</td>\n",
       "      <td>January 04, 2013</td>\n",
       "    </tr>\n",
       "    <tr>\n",
       "      <th>2013-01-05</th>\n",
       "      <td>2013-01-05</td>\n",
       "      <td>6.000000</td>\n",
       "      <td>86.833333</td>\n",
       "      <td>3.700000</td>\n",
       "      <td>1016.500000</td>\n",
       "      <td>January 05, 2013</td>\n",
       "    </tr>\n",
       "    <tr>\n",
       "      <th>...</th>\n",
       "      <td>...</td>\n",
       "      <td>...</td>\n",
       "      <td>...</td>\n",
       "      <td>...</td>\n",
       "      <td>...</td>\n",
       "      <td>...</td>\n",
       "    </tr>\n",
       "    <tr>\n",
       "      <th>2014-12-27</th>\n",
       "      <td>2014-12-27</td>\n",
       "      <td>10.375000</td>\n",
       "      <td>69.000000</td>\n",
       "      <td>2.775000</td>\n",
       "      <td>1018.625000</td>\n",
       "      <td>December 27, 2014</td>\n",
       "    </tr>\n",
       "    <tr>\n",
       "      <th>2014-12-28</th>\n",
       "      <td>2014-12-28</td>\n",
       "      <td>9.000000</td>\n",
       "      <td>86.000000</td>\n",
       "      <td>0.700000</td>\n",
       "      <td>1019.750000</td>\n",
       "      <td>December 28, 2014</td>\n",
       "    </tr>\n",
       "    <tr>\n",
       "      <th>2014-12-29</th>\n",
       "      <td>2014-12-29</td>\n",
       "      <td>11.125000</td>\n",
       "      <td>72.625000</td>\n",
       "      <td>1.387500</td>\n",
       "      <td>1017.250000</td>\n",
       "      <td>December 29, 2014</td>\n",
       "    </tr>\n",
       "    <tr>\n",
       "      <th>2014-12-30</th>\n",
       "      <td>2014-12-30</td>\n",
       "      <td>11.625000</td>\n",
       "      <td>70.625000</td>\n",
       "      <td>2.550000</td>\n",
       "      <td>1014.625000</td>\n",
       "      <td>December 30, 2014</td>\n",
       "    </tr>\n",
       "    <tr>\n",
       "      <th>2014-12-31</th>\n",
       "      <td>2014-12-31</td>\n",
       "      <td>12.375000</td>\n",
       "      <td>67.125000</td>\n",
       "      <td>2.787500</td>\n",
       "      <td>1016.875000</td>\n",
       "      <td>December 31, 2014</td>\n",
       "    </tr>\n",
       "  </tbody>\n",
       "</table>\n",
       "<p>730 rows × 6 columns</p>\n",
       "</div>"
      ],
      "text/plain": [
       "                  date   meantemp   humidity  wind_speed  meanpressure  \\\n",
       "datetime                                                                 \n",
       "2013-01-01  2013-01-01  10.000000  84.500000    0.000000   1015.666667   \n",
       "2013-01-02  2013-01-02   7.400000  92.000000    2.980000   1017.800000   \n",
       "2013-01-03  2013-01-03   7.166667  87.000000    4.633333   1018.666667   \n",
       "2013-01-04  2013-01-04   8.666667  71.333333    1.233333   1017.166667   \n",
       "2013-01-05  2013-01-05   6.000000  86.833333    3.700000   1016.500000   \n",
       "...                ...        ...        ...         ...           ...   \n",
       "2014-12-27  2014-12-27  10.375000  69.000000    2.775000   1018.625000   \n",
       "2014-12-28  2014-12-28   9.000000  86.000000    0.700000   1019.750000   \n",
       "2014-12-29  2014-12-29  11.125000  72.625000    1.387500   1017.250000   \n",
       "2014-12-30  2014-12-30  11.625000  70.625000    2.550000   1014.625000   \n",
       "2014-12-31  2014-12-31  12.375000  67.125000    2.787500   1016.875000   \n",
       "\n",
       "                 datetime_fmt  \n",
       "datetime                       \n",
       "2013-01-01   January 01, 2013  \n",
       "2013-01-02   January 02, 2013  \n",
       "2013-01-03   January 03, 2013  \n",
       "2013-01-04   January 04, 2013  \n",
       "2013-01-05   January 05, 2013  \n",
       "...                       ...  \n",
       "2014-12-27  December 27, 2014  \n",
       "2014-12-28  December 28, 2014  \n",
       "2014-12-29  December 29, 2014  \n",
       "2014-12-30  December 30, 2014  \n",
       "2014-12-31  December 31, 2014  \n",
       "\n",
       "[730 rows x 6 columns]"
      ]
     },
     "execution_count": 17,
     "metadata": {},
     "output_type": "execute_result"
    }
   ],
   "source": [
    "df.loc['2013':'2014']"
   ]
  },
  {
   "cell_type": "code",
   "execution_count": 18,
   "id": "d6edfbf2-f1e5-409f-befe-15d34db79297",
   "metadata": {},
   "outputs": [
    {
     "data": {
      "text/html": [
       "<div>\n",
       "<style scoped>\n",
       "    .dataframe tbody tr th:only-of-type {\n",
       "        vertical-align: middle;\n",
       "    }\n",
       "\n",
       "    .dataframe tbody tr th {\n",
       "        vertical-align: top;\n",
       "    }\n",
       "\n",
       "    .dataframe thead th {\n",
       "        text-align: right;\n",
       "    }\n",
       "</style>\n",
       "<table border=\"1\" class=\"dataframe\">\n",
       "  <thead>\n",
       "    <tr style=\"text-align: right;\">\n",
       "      <th></th>\n",
       "      <th>date</th>\n",
       "      <th>meantemp</th>\n",
       "      <th>humidity</th>\n",
       "      <th>wind_speed</th>\n",
       "      <th>meanpressure</th>\n",
       "      <th>datetime_fmt</th>\n",
       "    </tr>\n",
       "    <tr>\n",
       "      <th>datetime</th>\n",
       "      <th></th>\n",
       "      <th></th>\n",
       "      <th></th>\n",
       "      <th></th>\n",
       "      <th></th>\n",
       "      <th></th>\n",
       "    </tr>\n",
       "  </thead>\n",
       "  <tbody>\n",
       "    <tr>\n",
       "      <th>2013-01-01</th>\n",
       "      <td>2013-01-01</td>\n",
       "      <td>10.000000</td>\n",
       "      <td>84.500000</td>\n",
       "      <td>0.000000</td>\n",
       "      <td>1015.666667</td>\n",
       "      <td>January 01, 2013</td>\n",
       "    </tr>\n",
       "    <tr>\n",
       "      <th>2013-01-02</th>\n",
       "      <td>2013-01-02</td>\n",
       "      <td>7.400000</td>\n",
       "      <td>92.000000</td>\n",
       "      <td>2.980000</td>\n",
       "      <td>1017.800000</td>\n",
       "      <td>January 02, 2013</td>\n",
       "    </tr>\n",
       "    <tr>\n",
       "      <th>2013-01-03</th>\n",
       "      <td>2013-01-03</td>\n",
       "      <td>7.166667</td>\n",
       "      <td>87.000000</td>\n",
       "      <td>4.633333</td>\n",
       "      <td>1018.666667</td>\n",
       "      <td>January 03, 2013</td>\n",
       "    </tr>\n",
       "    <tr>\n",
       "      <th>2013-01-04</th>\n",
       "      <td>2013-01-04</td>\n",
       "      <td>8.666667</td>\n",
       "      <td>71.333333</td>\n",
       "      <td>1.233333</td>\n",
       "      <td>1017.166667</td>\n",
       "      <td>January 04, 2013</td>\n",
       "    </tr>\n",
       "    <tr>\n",
       "      <th>2013-01-05</th>\n",
       "      <td>2013-01-05</td>\n",
       "      <td>6.000000</td>\n",
       "      <td>86.833333</td>\n",
       "      <td>3.700000</td>\n",
       "      <td>1016.500000</td>\n",
       "      <td>January 05, 2013</td>\n",
       "    </tr>\n",
       "    <tr>\n",
       "      <th>...</th>\n",
       "      <td>...</td>\n",
       "      <td>...</td>\n",
       "      <td>...</td>\n",
       "      <td>...</td>\n",
       "      <td>...</td>\n",
       "      <td>...</td>\n",
       "    </tr>\n",
       "    <tr>\n",
       "      <th>2014-06-26</th>\n",
       "      <td>2014-06-26</td>\n",
       "      <td>32.500000</td>\n",
       "      <td>60.375000</td>\n",
       "      <td>3.237500</td>\n",
       "      <td>1001.000000</td>\n",
       "      <td>June 26, 2014</td>\n",
       "    </tr>\n",
       "    <tr>\n",
       "      <th>2014-06-27</th>\n",
       "      <td>2014-06-27</td>\n",
       "      <td>34.750000</td>\n",
       "      <td>48.500000</td>\n",
       "      <td>9.487500</td>\n",
       "      <td>1001.625000</td>\n",
       "      <td>June 27, 2014</td>\n",
       "    </tr>\n",
       "    <tr>\n",
       "      <th>2014-06-28</th>\n",
       "      <td>2014-06-28</td>\n",
       "      <td>34.875000</td>\n",
       "      <td>49.000000</td>\n",
       "      <td>5.787500</td>\n",
       "      <td>999.375000</td>\n",
       "      <td>June 28, 2014</td>\n",
       "    </tr>\n",
       "    <tr>\n",
       "      <th>2014-06-29</th>\n",
       "      <td>2014-06-29</td>\n",
       "      <td>33.000000</td>\n",
       "      <td>57.750000</td>\n",
       "      <td>9.712500</td>\n",
       "      <td>997.750000</td>\n",
       "      <td>June 29, 2014</td>\n",
       "    </tr>\n",
       "    <tr>\n",
       "      <th>2014-06-30</th>\n",
       "      <td>2014-06-30</td>\n",
       "      <td>32.000000</td>\n",
       "      <td>67.750000</td>\n",
       "      <td>3.250000</td>\n",
       "      <td>997.500000</td>\n",
       "      <td>June 30, 2014</td>\n",
       "    </tr>\n",
       "  </tbody>\n",
       "</table>\n",
       "<p>546 rows × 6 columns</p>\n",
       "</div>"
      ],
      "text/plain": [
       "                  date   meantemp   humidity  wind_speed  meanpressure  \\\n",
       "datetime                                                                 \n",
       "2013-01-01  2013-01-01  10.000000  84.500000    0.000000   1015.666667   \n",
       "2013-01-02  2013-01-02   7.400000  92.000000    2.980000   1017.800000   \n",
       "2013-01-03  2013-01-03   7.166667  87.000000    4.633333   1018.666667   \n",
       "2013-01-04  2013-01-04   8.666667  71.333333    1.233333   1017.166667   \n",
       "2013-01-05  2013-01-05   6.000000  86.833333    3.700000   1016.500000   \n",
       "...                ...        ...        ...         ...           ...   \n",
       "2014-06-26  2014-06-26  32.500000  60.375000    3.237500   1001.000000   \n",
       "2014-06-27  2014-06-27  34.750000  48.500000    9.487500   1001.625000   \n",
       "2014-06-28  2014-06-28  34.875000  49.000000    5.787500    999.375000   \n",
       "2014-06-29  2014-06-29  33.000000  57.750000    9.712500    997.750000   \n",
       "2014-06-30  2014-06-30  32.000000  67.750000    3.250000    997.500000   \n",
       "\n",
       "                datetime_fmt  \n",
       "datetime                      \n",
       "2013-01-01  January 01, 2013  \n",
       "2013-01-02  January 02, 2013  \n",
       "2013-01-03  January 03, 2013  \n",
       "2013-01-04  January 04, 2013  \n",
       "2013-01-05  January 05, 2013  \n",
       "...                      ...  \n",
       "2014-06-26     June 26, 2014  \n",
       "2014-06-27     June 27, 2014  \n",
       "2014-06-28     June 28, 2014  \n",
       "2014-06-29     June 29, 2014  \n",
       "2014-06-30     June 30, 2014  \n",
       "\n",
       "[546 rows x 6 columns]"
      ]
     },
     "execution_count": 18,
     "metadata": {},
     "output_type": "execute_result"
    }
   ],
   "source": [
    "df.loc['2013':'06-2014']"
   ]
  },
  {
   "cell_type": "code",
   "execution_count": 19,
   "id": "2556810a-547b-4bcc-b2b7-b065b64bab2f",
   "metadata": {},
   "outputs": [
    {
     "data": {
      "text/html": [
       "<div>\n",
       "<style scoped>\n",
       "    .dataframe tbody tr th:only-of-type {\n",
       "        vertical-align: middle;\n",
       "    }\n",
       "\n",
       "    .dataframe tbody tr th {\n",
       "        vertical-align: top;\n",
       "    }\n",
       "\n",
       "    .dataframe thead th {\n",
       "        text-align: right;\n",
       "    }\n",
       "</style>\n",
       "<table border=\"1\" class=\"dataframe\">\n",
       "  <thead>\n",
       "    <tr style=\"text-align: right;\">\n",
       "      <th></th>\n",
       "      <th>date</th>\n",
       "      <th>meantemp</th>\n",
       "      <th>humidity</th>\n",
       "      <th>wind_speed</th>\n",
       "      <th>meanpressure</th>\n",
       "      <th>datetime_fmt</th>\n",
       "    </tr>\n",
       "    <tr>\n",
       "      <th>datetime</th>\n",
       "      <th></th>\n",
       "      <th></th>\n",
       "      <th></th>\n",
       "      <th></th>\n",
       "      <th></th>\n",
       "      <th></th>\n",
       "    </tr>\n",
       "  </thead>\n",
       "  <tbody>\n",
       "    <tr>\n",
       "      <th>2013-03-01</th>\n",
       "      <td>2013-03-01</td>\n",
       "      <td>17.333333</td>\n",
       "      <td>49.333333</td>\n",
       "      <td>24.066667</td>\n",
       "      <td>1016.333333</td>\n",
       "      <td>March 01, 2013</td>\n",
       "    </tr>\n",
       "    <tr>\n",
       "      <th>2013-03-02</th>\n",
       "      <td>2013-03-02</td>\n",
       "      <td>19.000000</td>\n",
       "      <td>54.000000</td>\n",
       "      <td>15.725000</td>\n",
       "      <td>1016.250000</td>\n",
       "      <td>March 02, 2013</td>\n",
       "    </tr>\n",
       "    <tr>\n",
       "      <th>2013-03-03</th>\n",
       "      <td>2013-03-03</td>\n",
       "      <td>19.333333</td>\n",
       "      <td>62.833333</td>\n",
       "      <td>8.633333</td>\n",
       "      <td>1016.166667</td>\n",
       "      <td>March 03, 2013</td>\n",
       "    </tr>\n",
       "    <tr>\n",
       "      <th>2013-03-04</th>\n",
       "      <td>2013-03-04</td>\n",
       "      <td>17.600000</td>\n",
       "      <td>71.000000</td>\n",
       "      <td>5.560000</td>\n",
       "      <td>1015.800000</td>\n",
       "      <td>March 04, 2013</td>\n",
       "    </tr>\n",
       "    <tr>\n",
       "      <th>2013-03-05</th>\n",
       "      <td>2013-03-05</td>\n",
       "      <td>20.875000</td>\n",
       "      <td>61.875000</td>\n",
       "      <td>4.162500</td>\n",
       "      <td>1016.375000</td>\n",
       "      <td>March 05, 2013</td>\n",
       "    </tr>\n",
       "    <tr>\n",
       "      <th>...</th>\n",
       "      <td>...</td>\n",
       "      <td>...</td>\n",
       "      <td>...</td>\n",
       "      <td>...</td>\n",
       "      <td>...</td>\n",
       "      <td>...</td>\n",
       "    </tr>\n",
       "    <tr>\n",
       "      <th>2014-06-26</th>\n",
       "      <td>2014-06-26</td>\n",
       "      <td>32.500000</td>\n",
       "      <td>60.375000</td>\n",
       "      <td>3.237500</td>\n",
       "      <td>1001.000000</td>\n",
       "      <td>June 26, 2014</td>\n",
       "    </tr>\n",
       "    <tr>\n",
       "      <th>2014-06-27</th>\n",
       "      <td>2014-06-27</td>\n",
       "      <td>34.750000</td>\n",
       "      <td>48.500000</td>\n",
       "      <td>9.487500</td>\n",
       "      <td>1001.625000</td>\n",
       "      <td>June 27, 2014</td>\n",
       "    </tr>\n",
       "    <tr>\n",
       "      <th>2014-06-28</th>\n",
       "      <td>2014-06-28</td>\n",
       "      <td>34.875000</td>\n",
       "      <td>49.000000</td>\n",
       "      <td>5.787500</td>\n",
       "      <td>999.375000</td>\n",
       "      <td>June 28, 2014</td>\n",
       "    </tr>\n",
       "    <tr>\n",
       "      <th>2014-06-29</th>\n",
       "      <td>2014-06-29</td>\n",
       "      <td>33.000000</td>\n",
       "      <td>57.750000</td>\n",
       "      <td>9.712500</td>\n",
       "      <td>997.750000</td>\n",
       "      <td>June 29, 2014</td>\n",
       "    </tr>\n",
       "    <tr>\n",
       "      <th>2014-06-30</th>\n",
       "      <td>2014-06-30</td>\n",
       "      <td>32.000000</td>\n",
       "      <td>67.750000</td>\n",
       "      <td>3.250000</td>\n",
       "      <td>997.500000</td>\n",
       "      <td>June 30, 2014</td>\n",
       "    </tr>\n",
       "  </tbody>\n",
       "</table>\n",
       "<p>487 rows × 6 columns</p>\n",
       "</div>"
      ],
      "text/plain": [
       "                  date   meantemp   humidity  wind_speed  meanpressure  \\\n",
       "datetime                                                                 \n",
       "2013-03-01  2013-03-01  17.333333  49.333333   24.066667   1016.333333   \n",
       "2013-03-02  2013-03-02  19.000000  54.000000   15.725000   1016.250000   \n",
       "2013-03-03  2013-03-03  19.333333  62.833333    8.633333   1016.166667   \n",
       "2013-03-04  2013-03-04  17.600000  71.000000    5.560000   1015.800000   \n",
       "2013-03-05  2013-03-05  20.875000  61.875000    4.162500   1016.375000   \n",
       "...                ...        ...        ...         ...           ...   \n",
       "2014-06-26  2014-06-26  32.500000  60.375000    3.237500   1001.000000   \n",
       "2014-06-27  2014-06-27  34.750000  48.500000    9.487500   1001.625000   \n",
       "2014-06-28  2014-06-28  34.875000  49.000000    5.787500    999.375000   \n",
       "2014-06-29  2014-06-29  33.000000  57.750000    9.712500    997.750000   \n",
       "2014-06-30  2014-06-30  32.000000  67.750000    3.250000    997.500000   \n",
       "\n",
       "              datetime_fmt  \n",
       "datetime                    \n",
       "2013-03-01  March 01, 2013  \n",
       "2013-03-02  March 02, 2013  \n",
       "2013-03-03  March 03, 2013  \n",
       "2013-03-04  March 04, 2013  \n",
       "2013-03-05  March 05, 2013  \n",
       "...                    ...  \n",
       "2014-06-26   June 26, 2014  \n",
       "2014-06-27   June 27, 2014  \n",
       "2014-06-28   June 28, 2014  \n",
       "2014-06-29   June 29, 2014  \n",
       "2014-06-30   June 30, 2014  \n",
       "\n",
       "[487 rows x 6 columns]"
      ]
     },
     "execution_count": 19,
     "metadata": {},
     "output_type": "execute_result"
    }
   ],
   "source": [
    "# Just to demonstrate the flexibility, we can use different formats in one line of code\n",
    "df.loc['March, 2013':'06-2014']"
   ]
  },
  {
   "cell_type": "code",
   "execution_count": 20,
   "id": "2fcf15be-7277-4d96-8b95-3358c2d261c2",
   "metadata": {},
   "outputs": [
    {
     "data": {
      "text/html": [
       "<div>\n",
       "<style scoped>\n",
       "    .dataframe tbody tr th:only-of-type {\n",
       "        vertical-align: middle;\n",
       "    }\n",
       "\n",
       "    .dataframe tbody tr th {\n",
       "        vertical-align: top;\n",
       "    }\n",
       "\n",
       "    .dataframe thead th {\n",
       "        text-align: right;\n",
       "    }\n",
       "</style>\n",
       "<table border=\"1\" class=\"dataframe\">\n",
       "  <thead>\n",
       "    <tr style=\"text-align: right;\">\n",
       "      <th></th>\n",
       "      <th>date</th>\n",
       "      <th>meantemp</th>\n",
       "      <th>humidity</th>\n",
       "      <th>wind_speed</th>\n",
       "      <th>meanpressure</th>\n",
       "      <th>datetime_fmt</th>\n",
       "    </tr>\n",
       "    <tr>\n",
       "      <th>datetime</th>\n",
       "      <th></th>\n",
       "      <th></th>\n",
       "      <th></th>\n",
       "      <th></th>\n",
       "      <th></th>\n",
       "      <th></th>\n",
       "    </tr>\n",
       "  </thead>\n",
       "  <tbody>\n",
       "    <tr>\n",
       "      <th>2017-01-01</th>\n",
       "      <td>2017-01-01</td>\n",
       "      <td>10.0</td>\n",
       "      <td>100.0</td>\n",
       "      <td>0.0</td>\n",
       "      <td>1016.0</td>\n",
       "      <td>January 01, 2017</td>\n",
       "    </tr>\n",
       "  </tbody>\n",
       "</table>\n",
       "</div>"
      ],
      "text/plain": [
       "                  date  meantemp  humidity  wind_speed  meanpressure  \\\n",
       "datetime                                                               \n",
       "2017-01-01  2017-01-01      10.0     100.0         0.0        1016.0   \n",
       "\n",
       "                datetime_fmt  \n",
       "datetime                      \n",
       "2017-01-01  January 01, 2017  "
      ]
     },
     "execution_count": 20,
     "metadata": {},
     "output_type": "execute_result"
    }
   ],
   "source": [
    "## using max and slicing to find the index\n",
    "max_humid = df['humidity'].max()\n",
    "most_humid_date = df.loc[ df['humidity']==max_humid]\n",
    "max_date = most_humid_date.index\n",
    "most_humid_date"
   ]
  },
  {
   "cell_type": "code",
   "execution_count": 21,
   "id": "cc2b8d59-59f5-464f-b80a-9e8166597598",
   "metadata": {},
   "outputs": [
    {
     "name": "stdout",
     "output_type": "stream",
     "text": [
      "The most humid day was Index(['01/01/2017'], dtype='object', name='datetime'), which was a Index(['Sunday'], dtype='object', name='datetime').\n",
      " The humidity was 100.0, and the average temperature was datetime\n",
      "2017-01-01    10.0\n",
      "Name: meantemp, dtype: float64\n"
     ]
    }
   ],
   "source": [
    "## now print the requested statement\n",
    "print(f\"The most humid day was {max_date.strftime('%m/%d/%Y')}, which was a {max_date.day_name()}.\")\n",
    "print(f\" The humidity was {max_humid}, and the average temperature was {most_humid_date['meantemp']}\")"
   ]
  },
  {
   "cell_type": "code",
   "execution_count": 22,
   "id": "4fb5df73-85ad-454c-b084-5398f4c9a610",
   "metadata": {},
   "outputs": [
    {
     "data": {
      "text/plain": [
       "Timestamp('2017-01-01 00:00:00')"
      ]
     },
     "execution_count": 22,
     "metadata": {},
     "output_type": "execute_result"
    }
   ],
   "source": [
    "max_date = df['humidity'].idxmax()\n",
    "max_date"
   ]
  },
  {
   "cell_type": "code",
   "execution_count": 23,
   "id": "74744b6c-d5d1-4669-9ce0-d8c4111cb7f9",
   "metadata": {},
   "outputs": [
    {
     "data": {
      "text/plain": [
       "date                  2017-01-01\n",
       "meantemp                    10.0\n",
       "humidity                   100.0\n",
       "wind_speed                   0.0\n",
       "meanpressure              1016.0\n",
       "datetime_fmt    January 01, 2017\n",
       "Name: 2017-01-01 00:00:00, dtype: object"
      ]
     },
     "execution_count": 23,
     "metadata": {},
     "output_type": "execute_result"
    }
   ],
   "source": [
    "df.loc[max_date]"
   ]
  },
  {
   "cell_type": "code",
   "execution_count": 24,
   "id": "0f325d83-5450-4391-957b-9b0658da0b0c",
   "metadata": {},
   "outputs": [
    {
     "data": {
      "text/plain": [
       "('2017-01-01', 10.0, 100.0, 0.0, 1016.0)"
      ]
     },
     "execution_count": 24,
     "metadata": {},
     "output_type": "execute_result"
    }
   ],
   "source": [
    "## TEDIOUS WAY/BAD WAY\n",
    "## Saving each value from the series as separate variables\n",
    "str_date = df.loc[max_date,'date']\n",
    "temp = df.loc[max_date,'meantemp']\n",
    "humidity = df.loc[max_date,'humidity']\n",
    "wind = df.loc[max_date,'wind_speed']\n",
    "pressure = df.loc[max_date,'meanpressure']\n",
    "# Proving that it worked!\n",
    "str_date, temp, humidity, wind, pressure"
   ]
  },
  {
   "cell_type": "code",
   "execution_count": 25,
   "id": "24322327-dd04-4e91-be55-1e4aaa8dfd30",
   "metadata": {},
   "outputs": [
    {
     "data": {
      "text/plain": [
       "date                  2017-01-01\n",
       "meantemp                    10.0\n",
       "humidity                   100.0\n",
       "wind_speed                   0.0\n",
       "meanpressure              1016.0\n",
       "datetime_fmt    January 01, 2017\n",
       "Name: 2017-01-01 00:00:00, dtype: object"
      ]
     },
     "execution_count": 25,
     "metadata": {},
     "output_type": "execute_result"
    }
   ],
   "source": [
    "df.loc[max_date]"
   ]
  },
  {
   "cell_type": "code",
   "execution_count": 26,
   "id": "a5e6d9d1-26ed-4900-9b8a-e0376bb5778d",
   "metadata": {},
   "outputs": [
    {
     "name": "stdout",
     "output_type": "stream",
     "text": [
      "The most humid day was 01/01/2017, which was a Sunday.\n",
      "The humidity was 100.00,and the average temperature was 10.00.\n"
     ]
    }
   ],
   "source": [
    "## now print the requested statement\n",
    "print(f\"The most humid day was {max_date.strftime('%m/%d/%Y')}, \\\n",
    "which was a {max_date.day_name()}.\")\n",
    "print(f\"The humidity was {humidity:.2f},\\\n",
    "and the average temperature was {temp:.2f}.\")"
   ]
  },
  {
   "cell_type": "markdown",
   "id": "b2ce42d0-9188-4af2-8164-c45a97239fc1",
   "metadata": {},
   "source": [
    "### Custom Formats and Errors"
   ]
  },
  {
   "cell_type": "code",
   "execution_count": 27,
   "id": "b8a7634a-faf8-4157-a1ad-dad6ac784ce4",
   "metadata": {},
   "outputs": [
    {
     "name": "stdout",
     "output_type": "stream",
     "text": [
      "<class 'pandas.core.frame.DataFrame'>\n",
      "RangeIndex: 15341 entries, 0 to 15340\n",
      "Data columns (total 2 columns):\n",
      " #   Column       Non-Null Count  Dtype  \n",
      "---  ------       --------------  -----  \n",
      " 0   date         15341 non-null  int64  \n",
      " 1   cloud_cover  14938 non-null  float64\n",
      "dtypes: float64(1), int64(1)\n",
      "memory usage: 239.8 KB\n"
     ]
    },
    {
     "data": {
      "text/html": [
       "<div>\n",
       "<style scoped>\n",
       "    .dataframe tbody tr th:only-of-type {\n",
       "        vertical-align: middle;\n",
       "    }\n",
       "\n",
       "    .dataframe tbody tr th {\n",
       "        vertical-align: top;\n",
       "    }\n",
       "\n",
       "    .dataframe thead th {\n",
       "        text-align: right;\n",
       "    }\n",
       "</style>\n",
       "<table border=\"1\" class=\"dataframe\">\n",
       "  <thead>\n",
       "    <tr style=\"text-align: right;\">\n",
       "      <th></th>\n",
       "      <th>date</th>\n",
       "      <th>cloud_cover</th>\n",
       "    </tr>\n",
       "  </thead>\n",
       "  <tbody>\n",
       "    <tr>\n",
       "      <th>0</th>\n",
       "      <td>19790101</td>\n",
       "      <td>2.0</td>\n",
       "    </tr>\n",
       "    <tr>\n",
       "      <th>1</th>\n",
       "      <td>19790102</td>\n",
       "      <td>6.0</td>\n",
       "    </tr>\n",
       "    <tr>\n",
       "      <th>2</th>\n",
       "      <td>19790103</td>\n",
       "      <td>5.0</td>\n",
       "    </tr>\n",
       "    <tr>\n",
       "      <th>3</th>\n",
       "      <td>19790104</td>\n",
       "      <td>8.0</td>\n",
       "    </tr>\n",
       "    <tr>\n",
       "      <th>4</th>\n",
       "      <td>19790105</td>\n",
       "      <td>6.0</td>\n",
       "    </tr>\n",
       "    <tr>\n",
       "      <th>...</th>\n",
       "      <td>...</td>\n",
       "      <td>...</td>\n",
       "    </tr>\n",
       "    <tr>\n",
       "      <th>15336</th>\n",
       "      <td>20201227</td>\n",
       "      <td>1.0</td>\n",
       "    </tr>\n",
       "    <tr>\n",
       "      <th>15337</th>\n",
       "      <td>20201228</td>\n",
       "      <td>7.0</td>\n",
       "    </tr>\n",
       "    <tr>\n",
       "      <th>15338</th>\n",
       "      <td>20201229</td>\n",
       "      <td>7.0</td>\n",
       "    </tr>\n",
       "    <tr>\n",
       "      <th>15339</th>\n",
       "      <td>20201230</td>\n",
       "      <td>6.0</td>\n",
       "    </tr>\n",
       "    <tr>\n",
       "      <th>15340</th>\n",
       "      <td>20201231</td>\n",
       "      <td>7.0</td>\n",
       "    </tr>\n",
       "  </tbody>\n",
       "</table>\n",
       "<p>15341 rows × 2 columns</p>\n",
       "</div>"
      ],
      "text/plain": [
       "           date  cloud_cover\n",
       "0      19790101          2.0\n",
       "1      19790102          6.0\n",
       "2      19790103          5.0\n",
       "3      19790104          8.0\n",
       "4      19790105          6.0\n",
       "...         ...          ...\n",
       "15336  20201227          1.0\n",
       "15337  20201228          7.0\n",
       "15338  20201229          7.0\n",
       "15339  20201230          6.0\n",
       "15340  20201231          7.0\n",
       "\n",
       "[15341 rows x 2 columns]"
      ]
     },
     "execution_count": 27,
     "metadata": {},
     "output_type": "execute_result"
    }
   ],
   "source": [
    "demo = pd.read_csv('https://docs.google.com/spreadsheets/d/e/2PACX-1vT_jChgNsQbHbg4TGepzIqk8XC9DTIKmyyxb1upo5cfZCgbfIUQc2ZC0YMzuU5uApP140Ob49KBjdqh/pub?gid=1198589591&single=true&output=csv', usecols=[0,1])\n",
    "demo.info()\n",
    "demo"
   ]
  },
  {
   "cell_type": "code",
   "execution_count": 28,
   "id": "b2b6ea9d-b6cd-4aa4-9d6f-a33938b4adf7",
   "metadata": {},
   "outputs": [
    {
     "data": {
      "text/plain": [
       "0       1970-01-01 00:00:00.019790101\n",
       "1       1970-01-01 00:00:00.019790102\n",
       "2       1970-01-01 00:00:00.019790103\n",
       "3       1970-01-01 00:00:00.019790104\n",
       "4       1970-01-01 00:00:00.019790105\n",
       "                     ...             \n",
       "15336   1970-01-01 00:00:00.020201227\n",
       "15337   1970-01-01 00:00:00.020201228\n",
       "15338   1970-01-01 00:00:00.020201229\n",
       "15339   1970-01-01 00:00:00.020201230\n",
       "15340   1970-01-01 00:00:00.020201231\n",
       "Name: date, Length: 15341, dtype: datetime64[ns]"
      ]
     },
     "execution_count": 28,
     "metadata": {},
     "output_type": "execute_result"
    }
   ],
   "source": [
    "pd.to_datetime(demo['date'])"
   ]
  },
  {
   "cell_type": "code",
   "execution_count": 29,
   "id": "a972b748-ff43-44b9-9fc7-cbde624cfff6",
   "metadata": {},
   "outputs": [
    {
     "data": {
      "text/plain": [
       "934      19810723\n",
       "953      19810811\n",
       "2285     19850404\n",
       "3612     19881121\n",
       "4618     19910824\n",
       "7642     19991204\n",
       "7848     20000627\n",
       "8928     20030612\n",
       "10019    20060607\n",
       "14212    20171129\n",
       "Name: date, dtype: int64"
      ]
     },
     "execution_count": 29,
     "metadata": {},
     "output_type": "execute_result"
    }
   ],
   "source": [
    "## displaying random sample\n",
    "demo['date'].sample(n=10).sort_index()"
   ]
  },
  {
   "cell_type": "code",
   "execution_count": 30,
   "id": "f58c9c21-7d17-407e-84b9-6546bc7ab1fc",
   "metadata": {},
   "outputs": [
    {
     "data": {
      "text/plain": [
       "0       1979-01-01\n",
       "1       1979-01-02\n",
       "2       1979-01-03\n",
       "3       1979-01-04\n",
       "4       1979-01-05\n",
       "           ...    \n",
       "15336   2020-12-27\n",
       "15337   2020-12-28\n",
       "15338   2020-12-29\n",
       "15339   2020-12-30\n",
       "15340   2020-12-31\n",
       "Name: date, Length: 15341, dtype: datetime64[ns]"
      ]
     },
     "execution_count": 30,
     "metadata": {},
     "output_type": "execute_result"
    }
   ],
   "source": [
    "pd.to_datetime(demo['date'], format='%Y%m%d')"
   ]
  },
  {
   "cell_type": "code",
   "execution_count": 31,
   "id": "f418fc2a-3477-4a21-a46d-eaf0b0299a2f",
   "metadata": {},
   "outputs": [
    {
     "data": {
      "text/html": [
       "<div>\n",
       "<style scoped>\n",
       "    .dataframe tbody tr th:only-of-type {\n",
       "        vertical-align: middle;\n",
       "    }\n",
       "\n",
       "    .dataframe tbody tr th {\n",
       "        vertical-align: top;\n",
       "    }\n",
       "\n",
       "    .dataframe thead th {\n",
       "        text-align: right;\n",
       "    }\n",
       "</style>\n",
       "<table border=\"1\" class=\"dataframe\">\n",
       "  <thead>\n",
       "    <tr style=\"text-align: right;\">\n",
       "      <th></th>\n",
       "      <th>CrimeDateTime</th>\n",
       "      <th>Description</th>\n",
       "      <th>District</th>\n",
       "      <th>Latitude</th>\n",
       "      <th>Longitude</th>\n",
       "    </tr>\n",
       "  </thead>\n",
       "  <tbody>\n",
       "    <tr>\n",
       "      <th>0</th>\n",
       "      <td>2022/07/09 09:30:00+00</td>\n",
       "      <td>ROBBERY - RESIDENCE</td>\n",
       "      <td>NORTHEAST</td>\n",
       "      <td>39.3223</td>\n",
       "      <td>-76.5467</td>\n",
       "    </tr>\n",
       "    <tr>\n",
       "      <th>1</th>\n",
       "      <td>2022/07/09 16:00:00+00</td>\n",
       "      <td>COMMON ASSAULT</td>\n",
       "      <td>SOUTHERN</td>\n",
       "      <td>39.2821</td>\n",
       "      <td>-76.6355</td>\n",
       "    </tr>\n",
       "    <tr>\n",
       "      <th>2</th>\n",
       "      <td>2022/07/09 00:34:28+00</td>\n",
       "      <td>SHOOTING</td>\n",
       "      <td>SOUTHWEST</td>\n",
       "      <td>39.2884</td>\n",
       "      <td>-76.6569</td>\n",
       "    </tr>\n",
       "  </tbody>\n",
       "</table>\n",
       "</div>"
      ],
      "text/plain": [
       "            CrimeDateTime          Description   District  Latitude  Longitude\n",
       "0  2022/07/09 09:30:00+00  ROBBERY - RESIDENCE  NORTHEAST   39.3223   -76.5467\n",
       "1  2022/07/09 16:00:00+00       COMMON ASSAULT   SOUTHERN   39.2821   -76.6355\n",
       "2  2022/07/09 00:34:28+00             SHOOTING  SOUTHWEST   39.2884   -76.6569"
      ]
     },
     "execution_count": 31,
     "metadata": {},
     "output_type": "execute_result"
    }
   ],
   "source": [
    "# Importing Baltimore crime dataset\n",
    "url = \"https://docs.google.com/spreadsheets/d/e/2PACX-1vQ4lekzpYpo0pA9h1d3KYObIb3lQtAqz289c7jpwckioXvxm4xykz6ZSJpnDwjKTxJ4iqpG0seNJdSZ/pub?gidass=>=312387697&single=true&output=csv\"\n",
    "demo = pd.read_csv(url)\n",
    "demo.head(3)"
   ]
  },
  {
   "cell_type": "code",
   "execution_count": 33,
   "id": "bc46947d-1023-440b-b52d-a6c02366f1bd",
   "metadata": {},
   "outputs": [],
   "source": [
    "# This will give an error\n",
    "# pd.to_datetime(demo['CrimeDateTime'])"
   ]
  },
  {
   "cell_type": "code",
   "execution_count": 34,
   "id": "7e366b1a-28d0-4b00-86e5-d3e9dc20d20a",
   "metadata": {},
   "outputs": [
    {
     "name": "stdout",
     "output_type": "stream",
     "text": [
      "Out of bounds nanosecond timestamp: 1202-05-22 10:56:02 present at position 522867\n"
     ]
    }
   ],
   "source": [
    "try:\n",
    "        display(pd.to_datetime(demo['CrimeDateTime']))\n",
    "except Exception as e:\n",
    "        print(e)"
   ]
  },
  {
   "cell_type": "code",
   "execution_count": 35,
   "id": "e3078e10-3c6f-4508-a6cb-e4fba3810df6",
   "metadata": {},
   "outputs": [
    {
     "data": {
      "text/plain": [
       "1"
      ]
     },
     "execution_count": 35,
     "metadata": {},
     "output_type": "execute_result"
    }
   ],
   "source": [
    "demo['CrimeDateTime'] = pd.to_datetime(demo['CrimeDateTime'], errors='coerce')\n",
    "demo['CrimeDateTime'].isna().sum()"
   ]
  },
  {
   "attachments": {
    "50d0d315-3044-49de-a7f8-4d0b73ec038a.png": {
     "image/png": "[encoded data removed]"
    }
   },
   "cell_type": "markdown",
   "id": "a6f4117a-4000-47e4-8a92-e7801f57ac06",
   "metadata": {},
   "source": [
    "![image.png](attachment:50d0d315-3044-49de-a7f8-4d0b73ec038a.png)"
   ]
  },
  {
   "cell_type": "code",
   "execution_count": 36,
   "id": "0bbb555e-2b2b-455a-94fb-7a2e387bb064",
   "metadata": {},
   "outputs": [
    {
     "data": {
      "text/html": [
       "<div>\n",
       "<style scoped>\n",
       "    .dataframe tbody tr th:only-of-type {\n",
       "        vertical-align: middle;\n",
       "    }\n",
       "\n",
       "    .dataframe tbody tr th {\n",
       "        vertical-align: top;\n",
       "    }\n",
       "\n",
       "    .dataframe thead th {\n",
       "        text-align: right;\n",
       "    }\n",
       "</style>\n",
       "<table border=\"1\" class=\"dataframe\">\n",
       "  <thead>\n",
       "    <tr style=\"text-align: right;\">\n",
       "      <th></th>\n",
       "      <th>CrimeDateTime</th>\n",
       "      <th>Description</th>\n",
       "      <th>District</th>\n",
       "      <th>Latitude</th>\n",
       "      <th>Longitude</th>\n",
       "    </tr>\n",
       "  </thead>\n",
       "  <tbody>\n",
       "    <tr>\n",
       "      <th>0</th>\n",
       "      <td>2022-07-09 09:30:00+00:00</td>\n",
       "      <td>ROBBERY - RESIDENCE</td>\n",
       "      <td>NORTHEAST</td>\n",
       "      <td>39.3223</td>\n",
       "      <td>-76.5467</td>\n",
       "    </tr>\n",
       "    <tr>\n",
       "      <th>1</th>\n",
       "      <td>2022-07-09 16:00:00+00:00</td>\n",
       "      <td>COMMON ASSAULT</td>\n",
       "      <td>SOUTHERN</td>\n",
       "      <td>39.2821</td>\n",
       "      <td>-76.6355</td>\n",
       "    </tr>\n",
       "    <tr>\n",
       "      <th>2</th>\n",
       "      <td>2022-07-09 00:34:28+00:00</td>\n",
       "      <td>SHOOTING</td>\n",
       "      <td>SOUTHWEST</td>\n",
       "      <td>39.2884</td>\n",
       "      <td>-76.6569</td>\n",
       "    </tr>\n",
       "    <tr>\n",
       "      <th>3</th>\n",
       "      <td>2022-07-09 00:34:28+00:00</td>\n",
       "      <td>SHOOTING</td>\n",
       "      <td>SOUTHWEST</td>\n",
       "      <td>39.2884</td>\n",
       "      <td>-76.6569</td>\n",
       "    </tr>\n",
       "    <tr>\n",
       "      <th>4</th>\n",
       "      <td>2022-07-09 18:00:00+00:00</td>\n",
       "      <td>COMMON ASSAULT</td>\n",
       "      <td>NORTHEAST</td>\n",
       "      <td>39.3188</td>\n",
       "      <td>-76.5872</td>\n",
       "    </tr>\n",
       "  </tbody>\n",
       "</table>\n",
       "</div>"
      ],
      "text/plain": [
       "              CrimeDateTime          Description   District  Latitude  \\\n",
       "0 2022-07-09 09:30:00+00:00  ROBBERY - RESIDENCE  NORTHEAST   39.3223   \n",
       "1 2022-07-09 16:00:00+00:00       COMMON ASSAULT   SOUTHERN   39.2821   \n",
       "2 2022-07-09 00:34:28+00:00             SHOOTING  SOUTHWEST   39.2884   \n",
       "3 2022-07-09 00:34:28+00:00             SHOOTING  SOUTHWEST   39.2884   \n",
       "4 2022-07-09 18:00:00+00:00       COMMON ASSAULT  NORTHEAST   39.3188   \n",
       "\n",
       "   Longitude  \n",
       "0   -76.5467  \n",
       "1   -76.6355  \n",
       "2   -76.6569  \n",
       "3   -76.6569  \n",
       "4   -76.5872  "
      ]
     },
     "execution_count": 36,
     "metadata": {},
     "output_type": "execute_result"
    }
   ],
   "source": [
    "demo = demo.dropna(subset=['CrimeDateTime'])\n",
    "demo.head()"
   ]
  },
  {
   "cell_type": "code",
   "execution_count": 37,
   "id": "5c4cce94-4675-48fd-8a39-7a08d35c45f2",
   "metadata": {},
   "outputs": [
    {
     "data": {
      "text/plain": [
       "0        2022-07-09 09:30:00+00:00\n",
       "1        2022-07-09 16:00:00+00:00\n",
       "2        2022-07-09 00:34:28+00:00\n",
       "3        2022-07-09 00:34:28+00:00\n",
       "4        2022-07-09 18:00:00+00:00\n",
       "                    ...           \n",
       "527812   2013-07-31 17:45:00+00:00\n",
       "527813   2013-07-31 14:15:00+00:00\n",
       "527814   2013-07-31 21:00:00+00:00\n",
       "527815   2013-07-31 17:00:00+00:00\n",
       "527816   2013-07-31 11:40:00+00:00\n",
       "Name: CrimeDateTime, Length: 527816, dtype: datetime64[ns, UTC]"
      ]
     },
     "execution_count": 37,
     "metadata": {},
     "output_type": "execute_result"
    }
   ],
   "source": [
    "pd.to_datetime(demo['CrimeDateTime'])"
   ]
  },
  {
   "cell_type": "markdown",
   "id": "e51491bd-5198-4712-bbcf-aba3bee8bd45",
   "metadata": {},
   "source": [
    "### Timedeltas & Date Ranges"
   ]
  },
  {
   "cell_type": "code",
   "execution_count": 39,
   "id": "74feb05b-7d2f-418d-a29a-1e621639c632",
   "metadata": {},
   "outputs": [],
   "source": [
    "url=\"https://docs.google.com/spreadsheets/d/e/2PACX-1vQcpVvVioO23cndDwr1UmKhndrSq6ES6ZUKZ4fkBBqIAavd1_coVPO_yeOye-Ub-cAWlkX3psJvOU8o/pub?output=csv\"\n",
    "df = pd.read_csv(url)\n",
    "df['datetime'] = pd.to_datetime(df['date'])"
   ]
  },
  {
   "cell_type": "code",
   "execution_count": 40,
   "id": "cd9b8914-86dc-4f86-aa8c-6293c041a9ca",
   "metadata": {},
   "outputs": [],
   "source": [
    "# set 'datetime' as the index\n",
    "df = df.set_index('datetime')"
   ]
  },
  {
   "cell_type": "code",
   "execution_count": 41,
   "id": "655eaa8e-225f-4e0b-8cbb-2d71d67cab77",
   "metadata": {},
   "outputs": [
    {
     "data": {
      "text/plain": [
       "Timedelta('3 days 00:00:00')"
      ]
     },
     "execution_count": 41,
     "metadata": {},
     "output_type": "execute_result"
    }
   ],
   "source": [
    "# make the time delta\n",
    "delta_3d = pd.to_timedelta(3,'D')\n",
    "delta_3d"
   ]
  },
  {
   "cell_type": "code",
   "execution_count": 42,
   "id": "3d2e36fa-e7a6-40ec-b9e4-94e1bb37b15c",
   "metadata": {},
   "outputs": [
    {
     "data": {
      "text/plain": [
       "Timestamp('2016-12-29 00:00:00')"
      ]
     },
     "execution_count": 42,
     "metadata": {},
     "output_type": "execute_result"
    }
   ],
   "source": [
    "max_date = df['humidity'].idxmax()\n",
    "# calc 3 days BEFORE\n",
    "pre_max = max_date - delta_3d\n",
    "pre_max"
   ]
  },
  {
   "cell_type": "code",
   "execution_count": 43,
   "id": "c6781623-d420-4896-b475-dbc2a48bcc1a",
   "metadata": {},
   "outputs": [
    {
     "data": {
      "text/plain": [
       "Timestamp('2017-01-04 00:00:00')"
      ]
     },
     "execution_count": 43,
     "metadata": {},
     "output_type": "execute_result"
    }
   ],
   "source": [
    "# calc 3 days AFTER\n",
    "post_max = max_date + delta_3d\n",
    "post_max"
   ]
  },
  {
   "cell_type": "code",
   "execution_count": 47,
   "id": "db8c4913-3527-4800-aec5-6315b07b7f09",
   "metadata": {},
   "outputs": [
    {
     "data": {
      "text/plain": [
       "4.89791666675"
      ]
     },
     "execution_count": 47,
     "metadata": {},
     "output_type": "execute_result"
    }
   ],
   "source": [
    "mean_windspeed = df.loc[pre_max:post_max,'wind_speed'].mean()\n",
    "mean_windspeed"
   ]
  },
  {
   "cell_type": "code",
   "execution_count": 45,
   "id": "cc386c42-d14b-486a-817a-295871e39afe",
   "metadata": {},
   "outputs": [
    {
     "data": {
      "text/plain": [
       "DatetimeIndex(['2016-12-29', '2016-12-30', '2016-12-31', '2017-01-01',\n",
       "               '2017-01-02', '2017-01-03', '2017-01-04'],\n",
       "              dtype='datetime64[ns]', freq='D')"
      ]
     },
     "execution_count": 45,
     "metadata": {},
     "output_type": "execute_result"
    }
   ],
   "source": [
    "## making a date range to cover the pre-max to post-max window\n",
    "date_range = pd.date_range(pre_max, post_max)\n",
    "date_range"
   ]
  },
  {
   "cell_type": "code",
   "execution_count": 49,
   "id": "25f3ec71-dfe0-4008-91ee-38ef1e705723",
   "metadata": {},
   "outputs": [],
   "source": [
    "# this will give an error\n",
    "# df.loc[date_range,'wind_speed'].mean()"
   ]
  }
 ],
 "metadata": {
  "kernelspec": {
   "display_name": "Python 3 (ipykernel)",
   "language": "python",
   "name": "python3"
  },
  "language_info": {
   "codemirror_mode": {
    "name": "ipython",
    "version": 3
   },
   "file_extension": ".py",
   "mimetype": "text/x-python",
   "name": "python",
   "nbconvert_exporter": "python",
   "pygments_lexer": "ipython3",
   "version": "3.10.10"
  },
  "widgets": {
   "application/vnd.jupyter.widget-state+json": {
    "state": {},
    "version_major": 2,
    "version_minor": 0
   }
  }
 },
 "nbformat": 4,
 "nbformat_minor": 5
}
