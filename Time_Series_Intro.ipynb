{
 "cells": [
  {
   "cell_type": "code",
   "execution_count": 1,
   "id": "bf948cab-dce1-491f-9a39-dc28ad01d8c8",
   "metadata": {},
   "outputs": [],
   "source": [
    "import datetime as dt"
   ]
  },
  {
   "cell_type": "code",
   "execution_count": 2,
   "id": "2d14a010-1ae9-4fe7-9088-206c2cb10dd2",
   "metadata": {},
   "outputs": [
    {
     "data": {
      "text/plain": [
       "datetime.datetime(2023, 12, 17, 22, 8, 24, 340362)"
      ]
     },
     "execution_count": 2,
     "metadata": {},
     "output_type": "execute_result"
    }
   ],
   "source": [
    "## You can obtain the current date and time with .now()\n",
    "now = dt.datetime.now()\n",
    "now"
   ]
  },
  {
   "cell_type": "code",
   "execution_count": 3,
   "id": "dc6e6e74-add2-453c-9bb8-3e661ff60863",
   "metadata": {},
   "outputs": [
    {
     "data": {
      "text/plain": [
       "2023"
      ]
     },
     "execution_count": 3,
     "metadata": {},
     "output_type": "execute_result"
    }
   ],
   "source": [
    "## use datetime attribute to obtain just the year\n",
    "now.year"
   ]
  },
  {
   "cell_type": "code",
   "execution_count": 4,
   "id": "11eb3d47-a3cd-4db5-aed7-780ffe5ff70b",
   "metadata": {},
   "outputs": [
    {
     "data": {
      "text/plain": [
       "datetime.datetime(2023, 12, 17, 22, 8, 24, 340362)"
      ]
     },
     "metadata": {},
     "output_type": "display_data"
    }
   ],
   "source": [
    "## display using display function\n",
    "display(now)"
   ]
  },
  {
   "cell_type": "code",
   "execution_count": 5,
   "id": "3ba44bad-353c-4f9d-b756-19807c9f39d7",
   "metadata": {},
   "outputs": [
    {
     "data": {
      "text/plain": [
       "datetime.datetime(2023, 12, 17, 22, 8, 24, 340362)"
      ]
     },
     "execution_count": 5,
     "metadata": {},
     "output_type": "execute_result"
    }
   ],
   "source": [
    "# display by leaving as final line in cell\n",
    "now"
   ]
  },
  {
   "cell_type": "code",
   "execution_count": 6,
   "id": "6716ea06-2964-4c84-bc8b-7525cc73f707",
   "metadata": {},
   "outputs": [
    {
     "name": "stdout",
     "output_type": "stream",
     "text": [
      "2023-12-17 22:08:24.340362\n"
     ]
    }
   ],
   "source": [
    "print(now)"
   ]
  },
  {
   "cell_type": "code",
   "execution_count": 7,
   "id": "543b9fa7-9caa-4b19-a7c0-df0e0e8df03a",
   "metadata": {},
   "outputs": [
    {
     "data": {
      "text/plain": [
       "'17'"
      ]
     },
     "execution_count": 7,
     "metadata": {},
     "output_type": "execute_result"
    }
   ],
   "source": [
    "# just output the day with a leading 0 if needed\n",
    "format_a = \"%d\"\n",
    "now.strftime(format_a)"
   ]
  },
  {
   "cell_type": "code",
   "execution_count": 8,
   "id": "8b1ac5ff-fea2-4b24-889f-a6fb84c61dc9",
   "metadata": {},
   "outputs": [
    {
     "data": {
      "text/plain": [
       "'December 17'"
      ]
     },
     "execution_count": 8,
     "metadata": {},
     "output_type": "execute_result"
    }
   ],
   "source": [
    "# Add full month name to day of month\n",
    "format_b = \"%B %d\"\n",
    "now.strftime(format_b)"
   ]
  },
  {
   "cell_type": "code",
   "execution_count": 9,
   "id": "1e175384-7e52-476c-b93e-a2b50297ad2e",
   "metadata": {},
   "outputs": [
    {
     "data": {
      "text/plain": [
       "'Sun, December 17'"
      ]
     },
     "execution_count": 9,
     "metadata": {},
     "output_type": "execute_result"
    }
   ],
   "source": [
    "# Add day of the week to month and day\n",
    "format_c = \"%a, %B %d\"\n",
    "now.strftime(format_c)"
   ]
  },
  {
   "cell_type": "code",
   "execution_count": 10,
   "id": "deb0ca17-98a7-4021-a937-19a05dbfff89",
   "metadata": {},
   "outputs": [
    {
     "data": {
      "text/plain": [
       "'Dec 23'"
      ]
     },
     "execution_count": 10,
     "metadata": {},
     "output_type": "execute_result"
    }
   ],
   "source": [
    "# include abbreviated month and 2 digit year\n",
    "format_d = \"%b %y\"\n",
    "now.strftime(format_d)"
   ]
  },
  {
   "cell_type": "code",
   "execution_count": 11,
   "id": "a0540540-b2f1-4f09-87eb-51ac1edf4459",
   "metadata": {},
   "outputs": [
    {
     "name": "stdout",
     "output_type": "stream",
     "text": [
      "2023-12-17 22:08:24.340362\n"
     ]
    },
    {
     "data": {
      "text/plain": [
       "'2023-12-17 22:08:24.340362'"
      ]
     },
     "execution_count": 11,
     "metadata": {},
     "output_type": "execute_result"
    }
   ],
   "source": [
    "## the default datetime format\n",
    "default =\"%Y-%m-%d %H:%M:%S.%f\"\n",
    "print(now)\n",
    "now.strftime(default)"
   ]
  },
  {
   "cell_type": "code",
   "execution_count": 12,
   "id": "ea775f99-9033-4736-a6ff-de4a60306cbd",
   "metadata": {},
   "outputs": [
    {
     "data": {
      "text/plain": [
       "'12/17/2023 10:08:24 PM'"
      ]
     },
     "execution_count": 12,
     "metadata": {},
     "output_type": "execute_result"
    }
   ],
   "source": [
    "# Example US Formatted 12-hour date/time with AM/PM\n",
    "fmt = \"%m/%d/%Y %I:%M:%S %p\"\n",
    "now.strftime(fmt)"
   ]
  },
  {
   "cell_type": "code",
   "execution_count": 13,
   "id": "9f2c7ced-c8f1-48d2-aa0e-db4291b1057e",
   "metadata": {},
   "outputs": [
    {
     "data": {
      "text/plain": [
       "'22:08:24'"
      ]
     },
     "execution_count": 13,
     "metadata": {},
     "output_type": "execute_result"
    }
   ],
   "source": [
    "## just the time (24 hour time)\n",
    "now.strftime(\"%T\")"
   ]
  }
 ],
 "metadata": {
  "kernelspec": {
   "display_name": "Python 3 (ipykernel)",
   "language": "python",
   "name": "python3"
  },
  "language_info": {
   "codemirror_mode": {
    "name": "ipython",
    "version": 3
   },
   "file_extension": ".py",
   "mimetype": "text/x-python",
   "name": "python",
   "nbconvert_exporter": "python",
   "pygments_lexer": "ipython3",
   "version": "3.10.10"
  },
  "widgets": {
   "application/vnd.jupyter.widget-state+json": {
    "state": {},
    "version_major": 2,
    "version_minor": 0
   }
  }
 },
 "nbformat": 4,
 "nbformat_minor": 5
}
